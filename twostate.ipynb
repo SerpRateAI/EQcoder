{
 "cells": [
  {
   "cell_type": "code",
   "execution_count": 1,
   "id": "fdfdf3d4-6ddf-4bbb-bc62-6ce1e800352c",
   "metadata": {},
   "outputs": [],
   "source": [
    "import numpy as np\n",
    "from scipy.integrate import ode\n",
    "import matplotlib.pyplot as plt\n",
    "from mpl_toolkits.mplot3d import Axes3D\n",
    "import pandas as pd\n",
    "\n",
    "def dxdt_2sv(t, x, par):\n",
    "    expx = np.exp(x[0])\n",
    "    yd = (1 - expx) * par['k']\n",
    "    zd = -expx * par['r'] * (par['b2'] * x[0] + x[2])\n",
    "    xd = expx * ((par['b1'] - 1) * x[0] + x[1] - x[2]) + yd - zd\n",
    "    \n",
    "    return np.array([xd, yd, zd])"
   ]
  },
  {
   "cell_type": "code",
   "execution_count": null,
   "id": "dfafdf37-fe69-4453-94ee-405aa050819b",
   "metadata": {},
   "outputs": [],
   "source": [
    "\n",
    "\n",
    "# Define the ODE function (assuming you've already defined dxdt_2sv as in the previous answer)\n",
    "\n",
    "# Parameters\n",
    "par = {\n",
    "    'b1': 1,\n",
    "    'b2': 0.84,\n",
    "    'r': 0.048\n",
    "}\n",
    "\n",
    "kcr1 = par['b1'] - 1\n",
    "kcr2 = (kcr1 + par['r'] * (2 * par['b1'] + (par['b2'] - 1) * (2 + par['r'])) + \n",
    "        np.sqrt(4 * par['r']**2 * (kcr1 + par['b2']) + (kcr1 + par['r']**2 * (par['b2'] - 1))**2)) / (2 + 2 * par['r'])\n",
    "\n",
    "sols = pd.DataFrame()\n",
    "for knd in [0.9, 0.86, 0.856, 0.8552, 0.8525, 0.8, 0.7]:\n",
    "    print(knd)\n",
    "    \n",
    "    par['k'] = knd * kcr2\n",
    "\n",
    "    # Initial conditions\n",
    "    x0 = [0.1, 0.1, 0.1]\n",
    "    # x0 = [np.pi, 0.1, 0.1]\n",
    "\n",
    "    # Time range\n",
    "    tmax = 1e5\n",
    "    tshow = tmax - 2e3\n",
    "\n",
    "    # Solve ODE\n",
    "    solver = ode(dxdt_2sv)\n",
    "    solver.set_integrator('dopri5', atol=1e-13, rtol=1e-7)\n",
    "    solver.set_initial_value(x0, 0)\n",
    "    solver.set_f_params(par)\n",
    "\n",
    "    t = []\n",
    "    x = []\n",
    "    dt = 0.1  # time step\n",
    "    while solver.successful() and solver.t < tmax:\n",
    "        solver.integrate(solver.t + dt)\n",
    "        t.append(solver.t)\n",
    "        x.append(solver.y)\n",
    "\n",
    "    t = np.array(t)\n",
    "    x = np.array(x)\n",
    "    # sols[f't{knd}'] = t\n",
    "    sols[f'x{knd}'] = x[:,0]\n",
    "    sols[f'y{knd}'] = x[:,1]\n",
    "    sols[f'z{knd}'] = x[:,2]\n",
    "\n",
    "    # # Plot\n",
    "    # ind = t > tshow\n",
    "    \n",
    "    # fig = plt.figure(figsize=(10, 10))\n",
    "    \n",
    "    # # y vs. time\n",
    "    # ax1 = fig.add_subplot(211)\n",
    "    # ax1.plot(t[ind], x[ind, 1])\n",
    "    # ax1.set_xlabel('time')\n",
    "    # ax1.set_ylabel('y')\n",
    "\n",
    "    # # Phase space\n",
    "    # ax2 = fig.add_subplot(212, projection='3d')\n",
    "    # noise = np.random.randn(np.sum(ind), 3) * 0.01\n",
    "    # ax2.plot3D(x[ind, 0] + noise[:, 0], x[ind, 1] + noise[:, 1], x[ind, 2] + noise[:, 2])\n",
    "    # ax2.set_xlabel('x')\n",
    "    # ax2.set_ylabel('y')\n",
    "    # ax2.set_zlabel('z')\n",
    "\n",
    "    # # Save data\n",
    "    # oname = f\"p.{knd}.dat\"\n",
    "    # out = np.column_stack((t[ind], x[ind], x[ind] + noise))\n",
    "    # np.savetxt(oname, out)\n",
    "\n",
    "    # plt.tight_layout()\n",
    "    # plt.show()"
   ]
  },
  {
   "cell_type": "code",
   "execution_count": null,
   "id": "083d10f1-ef56-4670-8dad-361eb53dc480",
   "metadata": {},
   "outputs": [],
   "source": [
    "sols.filter(regex=('x.*'))[0:5000].plot()"
   ]
  },
  {
   "cell_type": "code",
   "execution_count": null,
   "id": "3e6b7b74-a7d7-451f-9a8d-1e7a2e409633",
   "metadata": {},
   "outputs": [],
   "source": [
    "sols.filter(regex=('y.*'))[0:5000].plot()"
   ]
  },
  {
   "cell_type": "code",
   "execution_count": null,
   "id": "f708ef4c-8c03-4c84-a6a8-b8172a1b31ee",
   "metadata": {},
   "outputs": [],
   "source": [
    "sols.filter(regex=('z.*'))[0:5000].plot()"
   ]
  },
  {
   "cell_type": "code",
   "execution_count": null,
   "id": "4ef4e51b-d0a2-470f-ae7e-39dfef0c15e6",
   "metadata": {},
   "outputs": [],
   "source": []
  },
  {
   "cell_type": "code",
   "execution_count": null,
   "id": "a747938b-1896-41cf-8465-be88735d8d0c",
   "metadata": {},
   "outputs": [],
   "source": []
  },
  {
   "cell_type": "code",
   "execution_count": null,
   "id": "d65a7d4c-e655-4c13-88fc-d8e92e9f86be",
   "metadata": {},
   "outputs": [],
   "source": []
  },
  {
   "cell_type": "code",
   "execution_count": null,
   "id": "2b55c4f3-bcc7-47f2-9b10-1ab11438694a",
   "metadata": {},
   "outputs": [],
   "source": []
  },
  {
   "cell_type": "code",
   "execution_count": null,
   "id": "8abc2947-f4f3-4873-8054-b1eb6f8b9d45",
   "metadata": {},
   "outputs": [],
   "source": []
  }
 ],
 "metadata": {
  "kernelspec": {
   "display_name": "Python 3 (ipykernel)",
   "language": "python",
   "name": "python3"
  },
  "language_info": {
   "codemirror_mode": {
    "name": "ipython",
    "version": 3
   },
   "file_extension": ".py",
   "mimetype": "text/x-python",
   "name": "python",
   "nbconvert_exporter": "python",
   "pygments_lexer": "ipython3",
   "version": "3.10.4"
  }
 },
 "nbformat": 4,
 "nbformat_minor": 5
}
